{
  "nbformat": 4,
  "nbformat_minor": 0,
  "metadata": {
    "colab": {
      "name": "git.ipynb",
      "provenance": [],
      "collapsed_sections": [],
      "mount_file_id": "1BjTk9wib1QvoKWH1rq6kWThY2KxQfcrC",
      "authorship_tag": "ABX9TyMOsuke0Txb0x7JIlBh17b1",
      "include_colab_link": true
    },
    "kernelspec": {
      "name": "python3",
      "display_name": "Python 3"
    }
  },
  "cells": [
    {
      "cell_type": "markdown",
      "metadata": {
        "id": "view-in-github",
        "colab_type": "text"
      },
      "source": [
        "<a href=\"https://colab.research.google.com/github/lichena/lichena.github.io/blob/master/git.ipynb\" target=\"_parent\"><img src=\"https://colab.research.google.com/assets/colab-badge.svg\" alt=\"Open In Colab\"/></a>"
      ]
    },
    {
      "cell_type": "code",
      "metadata": {
        "id": "pJ0luj2RIijH",
        "colab_type": "code",
        "outputId": "53c317c6-b4fc-417a-b4d8-818ce0c52796",
        "colab": {
          "base_uri": "https://localhost:8080/",
          "height": 643
        }
      },
      "source": [
        "from google.colab import drive\n",
        "from os.path import join\n",
        "\n",
        "ROOT = '/content/drive'     # default for the drive\n",
        "PROJ = 'My Drive/cis522/project/models'       # path to your project on Drive\n",
        "\n",
        "GIT_USERNAME = \"lichena\" # replace with yours\n",
        "GIT_TOKEN = \"lichena\"           # definitely replace with yours\n",
        "GIT_REPOSITORY = \"mimiciii\"      # ...nah\n",
        "\n",
        "drive.mount(ROOT)           # we mount the drive at /content/drive\n",
        "\n",
        "PROJECT_PATH = join(ROOT, PROJ)\n",
        "!mkdir \"{PROJECT_PATH}\"     # in case we haven't created it already   \n",
        "\n",
        "GIT_PATH = \"https://lichena@github.com/lichena/mimiciii.git\"\n",
        "!mkdir ./temp\n",
        "!git clone \"{GIT_PATH}\"\n",
        "!mv ./temp/* \"{PROJECT_PATH}\"\n",
        "!rm -rf ./temp\n",
        "!rsync -aP --exclude=data/ \"{PROJECT_PATH}\"/*  ./"
      ],
      "execution_count": 0,
      "outputs": [
        {
          "output_type": "stream",
          "text": [
            "Drive already mounted at /content/drive; to attempt to forcibly remount, call drive.mount(\"/content/drive\", force_remount=True).\n",
            "mkdir: cannot create directory ‘/content/drive/My Drive/cis522/project/models’: File exists\n",
            "Cloning into 'mimiciii'...\n",
            "fatal: could not read Password for 'https://lichena@github.com': No such device or address\n",
            "mv: cannot stat './temp/*': No such file or directory\n",
            "sending incremental file list\n"
          ],
          "name": "stdout"
        }
      ]
    },
    {
      "cell_type": "code",
      "metadata": {
        "id": "UIf24vRbIxGv",
        "colab_type": "code",
        "colab": {}
      },
      "source": [
        ""
      ],
      "execution_count": 0,
      "outputs": []
    }
  ]
}